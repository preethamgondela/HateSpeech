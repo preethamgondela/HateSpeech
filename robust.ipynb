{
  "nbformat": 4,
  "nbformat_minor": 0,
  "metadata": {
    "colab": {
      "provenance": []
    },
    "kernelspec": {
      "name": "python3",
      "display_name": "Python 3"
    },
    "language_info": {
      "name": "python"
    }
  },
  "cells": [
    {
      "cell_type": "code",
      "execution_count": null,
      "metadata": {
        "id": "wcjtnb_q8vy3"
      },
      "outputs": [],
      "source": [
        "import pandas as pd"
      ]
    },
    {
      "cell_type": "code",
      "source": [
        "data=pd.read_csv(\"sampledev.csv\",sep=\",\")\n",
        "data['text']"
      ],
      "metadata": {
        "colab": {
          "base_uri": "https://localhost:8080/"
        },
        "id": "NCcyInM486Tu",
        "outputId": "e64a1bd6-038a-459d-bb5e-7dc79dabfaae"
      },
      "execution_count": null,
      "outputs": [
        {
          "output_type": "execute_result",
          "data": {
            "text/plain": [
              "0                                    dalits are lowlives\n",
              "1                 gay people are a burden to our society\n",
              "2                                  Arabs are not welcome\n",
              "3      I'm not saying we should actually eliminate he...\n",
              "4                           bananas are for black people\n",
              "                             ...                        \n",
              "188    This computer is shite, it is not working prop...\n",
              "189                            Gays are abhorrent people\n",
              "190    camel people used to leave their country and  ...\n",
              "191                    The Indian community is so inbred\n",
              "192    Trans women should use the males' loo, where t...\n",
              "Name: text, Length: 193, dtype: object"
            ]
          },
          "metadata": {},
          "execution_count": 14
        }
      ]
    },
    {
      "cell_type": "code",
      "source": [
        "import string,random\n",
        "m_data=data['text']\n",
        "spc = ['@','+','_','-','*',\"#\"]\n",
        "\n",
        "rdm_n=random.randint(1,5)\n",
        "result=[]\n",
        "for i in range(len(m_data)):\n",
        "    rpc = random.choice(spc)\n",
        "    p=[]\n",
        "    for j in range(len(m_data[i])):\n",
        "      if j==rdm_n:\n",
        "        text=m_data[i][j]+rpc\n",
        "        p.append(text)\n",
        "      else:\n",
        "        p.append(m_data[i][j])\n",
        "    text=\"\".join(p)\n",
        "    result.append(text)\n",
        "\n",
        "result\n",
        "data['text']=result\n",
        "data.to_csv(\"Special_char.csv\",sep=',')\n",
        "\n",
        "\n",
        "\n"
      ],
      "metadata": {
        "id": "9T00TeZ29VMD"
      },
      "execution_count": null,
      "outputs": []
    },
    {
      "cell_type": "code",
      "source": [
        "import random\n",
        "import re\n",
        "data=pd.read_csv(\"sampledev.csv\",sep=\",\")\n",
        "data['text']\n",
        "result=[]\n",
        "for i in data['text']:\n",
        "  text=re.findall(r'\\S+', i)\n",
        "  random.shuffle(text)\n",
        "  vts=\" \".join(text)\n",
        "  result.append(vts)\n",
        "result\n",
        "data['text']=result\n",
        "data.to_csv(\"jumble.csv\",sep=',')"
      ],
      "metadata": {
        "id": "Q4MKcaTSqNXw"
      },
      "execution_count": null,
      "outputs": []
    },
    {
      "cell_type": "code",
      "source": [
        "import random\n",
        "import re\n",
        "data=pd.read_csv(\"sampledev.csv\",sep=\",\")\n",
        "data['text']\n",
        "result=[]\n",
        "for i in data['text']:\n",
        "  text=re.findall(r'\\S+', i)\n",
        "  text.pop(random.randrange(len(text)))\n",
        "  vts=\" \".join(text)\n",
        "  result.append(vts)\n",
        "result\n",
        "data['text']=result\n",
        "data.to_csv(\"random_drop.csv\",sep=',')"
      ],
      "metadata": {
        "id": "TP-peAOos7Ab"
      },
      "execution_count": null,
      "outputs": []
    }
  ]
}